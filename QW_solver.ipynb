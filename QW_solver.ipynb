{
 "cells": [
  {
   "cell_type": "markdown",
   "metadata": {},
   "source": [
    "#### A complete source code is available on [GitHub](https://github.com/clumdee/quantum_well_solver)."
   ]
  },
  {
   "cell_type": "markdown",
   "metadata": {},
   "source": [
    "# 1. Running instruction\n",
    "\n",
    "1. Go to the cell below then press `Ctrl + Enter` to instantiate a quantum well object and a form to fill parameters\n",
    "2. Fill quantum well and calculation parameters then click **Run State Solver**\n",
    "3. Wait for a summary of quantum well and available states.\n",
    "4. Go to the next cell then press `Ctrl + Enter` to see available electron states and wavefunctions\n",
    "5. Repeat step 2-4 if needed"
   ]
  },
  {
   "cell_type": "code",
   "execution_count": null,
   "metadata": {},
   "outputs": [],
   "source": [
    "# import libraries\n",
    "from QW import QW, qw_init_box\n",
    "from ipywidgets import interactive\n",
    "\n",
    "\n",
    "# instantiate a quantum well object and a form to fill parameters\n",
    "qw = QW()\n",
    "interactive_plot = qw_init_box(qw)\n",
    "display(interactive_plot)"
   ]
  },
  {
   "cell_type": "code",
   "execution_count": null,
   "metadata": {},
   "outputs": [],
   "source": [
    "# see available electron states and wavefunctions\n",
    "interactive(qw.plot, state=(0, len(qw.e_lvl)-1), plot_scale=(1,10))"
   ]
  }
 ],
 "metadata": {
  "kernelspec": {
   "display_name": "quantum-well-solver-LQ9Rj5VZ-py3.11",
   "language": "python",
   "name": "python3"
  },
  "language_info": {
   "codemirror_mode": {
    "name": "ipython",
    "version": 3
   },
   "file_extension": ".py",
   "mimetype": "text/x-python",
   "name": "python",
   "nbconvert_exporter": "python",
   "pygments_lexer": "ipython3",
   "version": "3.11.4"
  }
 },
 "nbformat": 4,
 "nbformat_minor": 2
}
